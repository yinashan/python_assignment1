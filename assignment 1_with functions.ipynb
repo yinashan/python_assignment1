{
 "cells": [
  {
   "cell_type": "markdown",
   "metadata": {},
   "source": [
    "# Python Assignment (with functions)"
   ]
  },
  {
   "cell_type": "code",
   "execution_count": 1,
   "metadata": {},
   "outputs": [
    {
     "name": "stdout",
     "output_type": "stream",
     "text": [
      "\n",
      "How different can dimensions of a 'box' be when the volume is unchanged? \n",
      "\n",
      "To get a better understanding and feel we will make a series of 5 large outdoor sculptures, \n",
      "each being a rectangular prism made out of rolled steel faces. \n",
      "\n",
      "This program will help us determine the exact dimensions we need for each sculpture \n",
      "so that they are consistent in volume.\n",
      "\n"
     ]
    }
   ],
   "source": [
    "# Intro\n",
    "\n",
    "print('''\n",
    "How different can dimensions of a 'box' be when the volume is unchanged? \n",
    "\n",
    "To get a better understanding and feel we will make a series of 5 large outdoor sculptures, \n",
    "each being a rectangular prism made out of rolled steel faces. \n",
    "\n",
    "This program will help us determine the exact dimensions we need for each sculpture \n",
    "so that they are consistent in volume.\n",
    "''')"
   ]
  },
  {
   "cell_type": "code",
   "execution_count": 2,
   "metadata": {},
   "outputs": [],
   "source": [
    "# Version A, prints out all info\n",
    "\n",
    "def sculpture():\n",
    "    \"\"\"Calculate the last dimension of a rectangular prism when given the volume and 2 side lengths.\"\"\"\n",
    "    \n",
    "    volume = float(input('Enter the volume of your sculptures in cubic meters '))\n",
    "    print('Volume = ', volume, ' cubic meters')\n",
    "\n",
    "    x = 1\n",
    "    while x <= 5:\n",
    "        length_A = float(input('Enter the first dimension of sculpture #' + str(x) + 'in meters: '))\n",
    "        print('1st dimension of sculpture #',x, '=', length_A, 'meters')\n",
    "        length_B = float(input('Enter the second dimension of sculpture#' + str(x) + 'in meters: '))\n",
    "        print('2nd dimension of sculpture #',x, '=', length_B, 'meters')\n",
    "        last_length = volume / (length_A * length_B)\n",
    "        print ('LAST DIMENSION OF SCULPTURE #' + str(x) + '=', round(last_length, 2))\n",
    "        x += 1\n",
    "        \n",
    "    print(\"Here are all the dimensions you need, can't wait to see your sculpture series!\")"
   ]
  },
  {
   "cell_type": "code",
   "execution_count": 3,
   "metadata": {},
   "outputs": [
    {
     "name": "stdout",
     "output_type": "stream",
     "text": [
      "Enter the volume of your sculptures in cubic meters 500\n",
      "Volume =  500.0  cubic meters\n",
      "Enter the first dimension of sculpture #1in meters: 23\n",
      "1st dimension of sculpture # 1 = 23.0 meters\n",
      "Enter the second dimension of sculpture#1in meters: 2\n",
      "2nd dimension of sculpture # 1 = 2.0 meters\n",
      "LAST DIMENSION OF SCULPTURE #1= 10.87\n",
      "Enter the first dimension of sculpture #2in meters: 35\n",
      "1st dimension of sculpture # 2 = 35.0 meters\n",
      "Enter the second dimension of sculpture#2in meters: 2\n",
      "2nd dimension of sculpture # 2 = 2.0 meters\n",
      "LAST DIMENSION OF SCULPTURE #2= 7.14\n",
      "Enter the first dimension of sculpture #3in meters: 35\n",
      "1st dimension of sculpture # 3 = 35.0 meters\n",
      "Enter the second dimension of sculpture#3in meters: 4\n",
      "2nd dimension of sculpture # 3 = 4.0 meters\n",
      "LAST DIMENSION OF SCULPTURE #3= 3.57\n",
      "Enter the first dimension of sculpture #4in meters: 65\n",
      "1st dimension of sculpture # 4 = 65.0 meters\n",
      "Enter the second dimension of sculpture#4in meters: 3\n",
      "2nd dimension of sculpture # 4 = 3.0 meters\n",
      "LAST DIMENSION OF SCULPTURE #4= 2.56\n",
      "Enter the first dimension of sculpture #5in meters: 74\n",
      "1st dimension of sculpture # 5 = 74.0 meters\n",
      "Enter the second dimension of sculpture#5in meters: 6\n",
      "2nd dimension of sculpture # 5 = 6.0 meters\n",
      "LAST DIMENSION OF SCULPTURE #5= 1.13\n",
      "Here are all the dimensions you need, can't wait to see your sculpture series!\n"
     ]
    }
   ],
   "source": [
    "sculpture ()"
   ]
  },
  {
   "cell_type": "code",
   "execution_count": 4,
   "metadata": {},
   "outputs": [],
   "source": [
    "# Version B prints less text so it's easier to see the outputs\n",
    "\n",
    "def sculpture_dimension():\n",
    "    \"\"\"Calculate the last dimension of a rectangular prism when given the volume and 2 side lengths.\"\"\"\n",
    "    \n",
    "    volume = float(input('Volume of sculptures in cubic meters: '))\n",
    "\n",
    "    x = 1\n",
    "    while x <= 5:\n",
    "        length_A = float(input('First dimension of sculpture #' + str(x) + 'in meters: '))\n",
    "        length_B = float(input('Second dimension of sculpture#' + str(x) + 'in meters: '))\n",
    "        last_length = volume / (length_A * length_B)\n",
    "        print ('LAST DIMENSION OF SCULPTURE #' + str(x) + '=', round(last_length, 2))\n",
    "        x += 1\n",
    "        \n",
    "    print(\"Here are all the dimensions you need, can't wait to see your sculpture series!\")"
   ]
  },
  {
   "cell_type": "code",
   "execution_count": 5,
   "metadata": {},
   "outputs": [
    {
     "name": "stdout",
     "output_type": "stream",
     "text": [
      "Volume of sculptures in cubic meters: 500\n",
      "First dimension of sculpture #1in meters: 56\n",
      "Second dimension of sculpture#1in meters: 3\n",
      "LAST DIMENSION OF SCULPTURE #1= 2.98\n",
      "First dimension of sculpture #2in meters: 15\n",
      "Second dimension of sculpture#2in meters: 6\n",
      "LAST DIMENSION OF SCULPTURE #2= 5.56\n",
      "First dimension of sculpture #3in meters: 47\n",
      "Second dimension of sculpture#3in meters: 6\n",
      "LAST DIMENSION OF SCULPTURE #3= 1.77\n",
      "First dimension of sculpture #4in meters: 23\n",
      "Second dimension of sculpture#4in meters: 6\n",
      "LAST DIMENSION OF SCULPTURE #4= 3.62\n",
      "First dimension of sculpture #5in meters: 41\n",
      "Second dimension of sculpture#5in meters: 3\n",
      "LAST DIMENSION OF SCULPTURE #5= 4.07\n",
      "Here are all the dimensions you need, can't wait to see your sculpture series!\n"
     ]
    }
   ],
   "source": [
    "sculpture_dimension()"
   ]
  },
  {
   "cell_type": "code",
   "execution_count": null,
   "metadata": {},
   "outputs": [],
   "source": []
  }
 ],
 "metadata": {
  "kernelspec": {
   "display_name": "Python 3",
   "language": "python",
   "name": "python3"
  },
  "language_info": {
   "codemirror_mode": {
    "name": "ipython",
    "version": 3
   },
   "file_extension": ".py",
   "mimetype": "text/x-python",
   "name": "python",
   "nbconvert_exporter": "python",
   "pygments_lexer": "ipython3",
   "version": "3.8.3"
  }
 },
 "nbformat": 4,
 "nbformat_minor": 4
}
