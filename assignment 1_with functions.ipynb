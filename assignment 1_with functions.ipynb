{
 "cells": [
  {
   "cell_type": "code",
   "execution_count": 3,
   "metadata": {},
   "outputs": [],
   "source": [
    "# Putting all inputs and calculations under one function\n",
    "\n",
    "def cuboid_length():\n",
    "    \n",
    "    print ('This is a calculator to find length A of a cuboid given the volume and lengths B and C')\n",
    "    volume = float(input('Please enter the volume: '))\n",
    "    length_B = float(input('Please enter the length_B: '))\n",
    "    length_C = float(input('Please enter the length_C: '))\n",
    "    length_A = volume / (length_B * length_C)\n",
    "    print ('Length A equals', round (length_A, 2))"
   ]
  },
  {
   "cell_type": "code",
   "execution_count": 5,
   "metadata": {},
   "outputs": [
    {
     "name": "stdout",
     "output_type": "stream",
     "text": [
      "This is a calculator to find length A of a cuboid given the volume and lengths B and C\n",
      "Please enter the volume: 200\n",
      "Please enter the length_B: 2\n",
      "Please enter the length_C: 5\n",
      "Length A equals 20.0\n"
     ]
    }
   ],
   "source": [
    "# Calling the function\n",
    "\n",
    "cuboid_length()"
   ]
  },
  {
   "cell_type": "code",
   "execution_count": null,
   "metadata": {},
   "outputs": [],
   "source": []
  }
 ],
 "metadata": {
  "kernelspec": {
   "display_name": "Python 3",
   "language": "python",
   "name": "python3"
  },
  "language_info": {
   "codemirror_mode": {
    "name": "ipython",
    "version": 3
   },
   "file_extension": ".py",
   "mimetype": "text/x-python",
   "name": "python",
   "nbconvert_exporter": "python",
   "pygments_lexer": "ipython3",
   "version": "3.8.3"
  }
 },
 "nbformat": 4,
 "nbformat_minor": 4
}
