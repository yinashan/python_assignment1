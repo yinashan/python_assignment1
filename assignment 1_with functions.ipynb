{
 "cells": [
  {
   "cell_type": "markdown",
   "metadata": {},
   "source": [
    "# Python Assignment (with functions)"
   ]
  },
  {
   "cell_type": "code",
   "execution_count": 3,
   "metadata": {},
   "outputs": [
    {
     "name": "stdout",
     "output_type": "stream",
     "text": [
      "\n",
      "How different can dimensions of a 'box' be when the volume is unchanged? \n",
      "\n",
      "To get a better understanding and feel we will make a series of 5 large outdoor sculptures, \n",
      "each being a rectangular prism made out of rolled steel faces. \n",
      "\n",
      "This program will help us determine the exact dimensions we need for each sculpture \n",
      "so that they are consistent in volume.\n",
      "\n"
     ]
    }
   ],
   "source": [
    "# Intro\n",
    "\n",
    "print('''\n",
    "How different can dimensions of a 'box' be when the volume is unchanged? \n",
    "\n",
    "To get a better understanding and feel we will make a series of 5 large outdoor sculptures, \n",
    "each being a rectangular prism made out of rolled steel faces. \n",
    "\n",
    "This program will help us determine the exact dimensions we need for each sculpture \n",
    "so that they are consistent in volume.\n",
    "''')"
   ]
  },
  {
   "cell_type": "code",
   "execution_count": 4,
   "metadata": {},
   "outputs": [
    {
     "name": "stdout",
     "output_type": "stream",
     "text": [
      "Enter the volume of your sculptures in cubic meters 500\n",
      "Volume =  500.0  cubic meters\n",
      "Enter the first dimension of your sculpture in meters: 2\n",
      "1st dimension of sculpture # 1 = 2.0 meters\n",
      "Enter the second dimension of your sculpture in meters: 32\n",
      "2nd dimension of sculpture # 1 = 32.0 meters\n",
      "LAST DIMENSION OF SCULPTURE # 1 = 7.81\n",
      "Enter the first dimension of your sculpture in meters: 15\n",
      "1st dimension of sculpture # 2 = 15.0 meters\n",
      "Enter the second dimension of your sculpture in meters: 2\n",
      "2nd dimension of sculpture # 2 = 2.0 meters\n",
      "LAST DIMENSION OF SCULPTURE # 2 = 16.67\n",
      "Enter the first dimension of your sculpture in meters: 32\n",
      "1st dimension of sculpture # 3 = 32.0 meters\n",
      "Enter the second dimension of your sculpture in meters: 1\n",
      "2nd dimension of sculpture # 3 = 1.0 meters\n",
      "LAST DIMENSION OF SCULPTURE # 3 = 15.62\n",
      "Enter the first dimension of your sculpture in meters: 54\n",
      "1st dimension of sculpture # 4 = 54.0 meters\n",
      "Enter the second dimension of your sculpture in meters: 32\n",
      "2nd dimension of sculpture # 4 = 32.0 meters\n",
      "LAST DIMENSION OF SCULPTURE # 4 = 0.29\n",
      "Enter the first dimension of your sculpture in meters: 1\n",
      "1st dimension of sculpture # 5 = 1.0 meters\n",
      "Enter the second dimension of your sculpture in meters: 2\n",
      "2nd dimension of sculpture # 5 = 2.0 meters\n",
      "LAST DIMENSION OF SCULPTURE # 5 = 250.0\n"
     ]
    }
   ],
   "source": [
    "# Code\n",
    "\n",
    "volume = float(input('Enter the volume of your sculptures in cubic meters '))\n",
    "print('Volume = ', volume, ' cubic meters')\n",
    "\n",
    "x = 1\n",
    "while x <= 5:\n",
    "    length_A = float(input('Enter the first dimension of your sculpture in meters: '))\n",
    "    print('1st dimension of sculpture #',x, '=', length_A, 'meters')\n",
    "    length_B = float(input('Enter the second dimension of your sculpture in meters: '))\n",
    "    print('2nd dimension of sculpture #',x, '=', length_B, 'meters')\n",
    "    last_length = volume / (length_A * length_B)\n",
    "    print ('LAST DIMENSION OF SCULPTURE #',x,'=', round(last_length, 2))\n",
    "    x += 1"
   ]
  },
  {
   "cell_type": "code",
   "execution_count": 8,
   "metadata": {},
   "outputs": [],
   "source": [
    "def sculpture():\n",
    "    volume = float(input('Enter the volume of your sculptures in cubic meters '))\n",
    "    print('Volume = ', volume, ' cubic meters')\n",
    "\n",
    "    x = 1\n",
    "    while x <= 5:\n",
    "        length_A = float(input('Enter the first dimension of your sculpture in meters: '))\n",
    "        print('1st dimension of sculpture #',x, '=', length_A, 'meters')\n",
    "        length_B = float(input('Enter the second dimension of your sculpture in meters: '))\n",
    "        print('2nd dimension of sculpture #',x, '=', length_B, 'meters')\n",
    "        last_length = volume / (length_A * length_B)\n",
    "        print ('LAST DIMENSION OF SCULPTURE #',x,'=', round(last_length, 2))\n",
    "        x += 1\n",
    "        \n",
    "    print(\"Here are the dimensions you need, can't wait to see your sculpture series!\")"
   ]
  },
  {
   "cell_type": "code",
   "execution_count": 9,
   "metadata": {},
   "outputs": [
    {
     "name": "stdout",
     "output_type": "stream",
     "text": [
      "Enter the volume of your sculptures in cubic meters 1000\n",
      "Volume =  1000.0  cubic meters\n",
      "Enter the first dimension of your sculpture in meters: 65\n",
      "1st dimension of sculpture # 1 = 65.0 meters\n",
      "Enter the second dimension of your sculpture in meters: 2\n",
      "2nd dimension of sculpture # 1 = 2.0 meters\n",
      "LAST DIMENSION OF SCULPTURE # 1 = 7.69\n",
      "Enter the first dimension of your sculpture in meters: 65\n",
      "1st dimension of sculpture # 2 = 65.0 meters\n",
      "Enter the second dimension of your sculpture in meters: 65\n",
      "2nd dimension of sculpture # 2 = 65.0 meters\n",
      "LAST DIMENSION OF SCULPTURE # 2 = 0.24\n",
      "Enter the first dimension of your sculpture in meters: 33\n",
      "1st dimension of sculpture # 3 = 33.0 meters\n",
      "Enter the second dimension of your sculpture in meters: 56\n",
      "2nd dimension of sculpture # 3 = 56.0 meters\n",
      "LAST DIMENSION OF SCULPTURE # 3 = 0.54\n",
      "Enter the first dimension of your sculpture in meters: 56\n",
      "1st dimension of sculpture # 4 = 56.0 meters\n",
      "Enter the second dimension of your sculpture in meters: 56\n",
      "2nd dimension of sculpture # 4 = 56.0 meters\n",
      "LAST DIMENSION OF SCULPTURE # 4 = 0.32\n",
      "Enter the first dimension of your sculpture in meters: 2\n",
      "1st dimension of sculpture # 5 = 2.0 meters\n",
      "Enter the second dimension of your sculpture in meters: 9\n",
      "2nd dimension of sculpture # 5 = 9.0 meters\n",
      "LAST DIMENSION OF SCULPTURE # 5 = 55.56\n",
      "Here are the dimensions you need, can't wait to see your sculpture series!\n"
     ]
    }
   ],
   "source": [
    "sculpture()"
   ]
  },
  {
   "cell_type": "code",
   "execution_count": null,
   "metadata": {},
   "outputs": [],
   "source": []
  },
  {
   "cell_type": "code",
   "execution_count": null,
   "metadata": {},
   "outputs": [],
   "source": []
  },
  {
   "cell_type": "code",
   "execution_count": null,
   "metadata": {},
   "outputs": [],
   "source": []
  }
 ],
 "metadata": {
  "kernelspec": {
   "display_name": "Python 3",
   "language": "python",
   "name": "python3"
  },
  "language_info": {
   "codemirror_mode": {
    "name": "ipython",
    "version": 3
   },
   "file_extension": ".py",
   "mimetype": "text/x-python",
   "name": "python",
   "nbconvert_exporter": "python",
   "pygments_lexer": "ipython3",
   "version": "3.8.3"
  }
 },
 "nbformat": 4,
 "nbformat_minor": 4
}
