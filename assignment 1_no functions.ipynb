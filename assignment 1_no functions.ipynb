{
 "cells": [
  {
   "cell_type": "markdown",
   "metadata": {},
   "source": [
    "# Python Assignment 1 (no functions)"
   ]
  },
  {
   "cell_type": "markdown",
   "metadata": {},
   "source": [
    "How different can dimensions of a 'box' be when the volume is unchanged? \n",
    "\n",
    "To get a better understanding and feel we will make a series of 5 large outdoor sculptures, \n",
    "each being a rectangular prism made out of rolled steel faces. \n",
    "\n",
    "This program will help us determine the exact dimensions we need for each sculpture \n",
    "so that they are consistent in volume."
   ]
  },
  {
   "cell_type": "code",
   "execution_count": 9,
   "metadata": {},
   "outputs": [],
   "source": [
    "# Step 1: Input the volume variable, followed by 2 lengths, allowing both intergers and floating numbers.\n",
    "\n",
    "# Step 2: Output last length as a floating number.\n",
    "\n",
    "# Step 3: Ask to start over with a new set of variables."
   ]
  },
  {
   "cell_type": "code",
   "execution_count": 12,
   "metadata": {},
   "outputs": [
    {
     "name": "stdout",
     "output_type": "stream",
     "text": [
      "This is a calculator to find the last length of a cuboid given the volume and the other two lengths\n",
      "Please enter the volume: 200\n",
      "Please enter the first length: 5\n",
      "Please enter the second length: 23\n",
      "Last length is euqal to 1.7391304347826086\n"
     ]
    }
   ],
   "source": [
    "# Trial 1 calculates last length and prints the answer in the same line\n",
    "\n",
    "print ('This is a calculator to find the last length of a cuboid given the volume and the other two lengths')\n",
    "volume = float(input('Please enter the volume: '))\n",
    "length_A = float(input('Please enter the first length: '))\n",
    "length_B = float(input('Please enter the second length: '))\n",
    "print ('Last length is euqal to', volume / (length_A * length_B))"
   ]
  },
  {
   "cell_type": "code",
   "execution_count": 13,
   "metadata": {},
   "outputs": [
    {
     "name": "stdout",
     "output_type": "stream",
     "text": [
      "This is a calculator to find the last length of a cuboid given the volume and the other two lengths\n",
      "Please enter the volume: 200\n",
      "Please enter the first length: 12\n",
      "Please enter the second length: 3\n",
      "Last length equals 5.56\n"
     ]
    }
   ],
   "source": [
    "# Trial 2 calculates last length and rounds it to 2 decimal places\n",
    "\n",
    "print ('This is a calculator to find the last length of a cuboid given the volume and the other two lengths')\n",
    "volume = float(input('Please enter the volume: '))\n",
    "length_A = float(input('Please enter the first length: '))\n",
    "length_B = float(input('Please enter the second length: '))\n",
    "last_length = volume / (length_A * length_B)\n",
    "print ('Last length equals', round (last_length, 2))"
   ]
  },
  {
   "cell_type": "code",
   "execution_count": 14,
   "metadata": {},
   "outputs": [
    {
     "name": "stdout",
     "output_type": "stream",
     "text": [
      "Enter the volume of your sculptures in cubic meters 500\n",
      "Volume =  500.0  cubic meters\n",
      "Enter the first dimension of your sculpture in meters: 23\n",
      "1st dimension of sculpture # 1 = 23.0 meters\n",
      "Enter the second dimension of your sculpture in meters: 2\n",
      "2nd dimension of sculpture # 1 = 2.0 meters\n",
      "LAST DIMENSION OF SCULPTURE # 1 = 10.87\n",
      "Enter the first dimension of your sculpture in meters: 12\n",
      "1st dimension of sculpture # 2 = 12.0 meters\n",
      "Enter the second dimension of your sculpture in meters: 5\n",
      "2nd dimension of sculpture # 2 = 5.0 meters\n",
      "LAST DIMENSION OF SCULPTURE # 2 = 8.33\n",
      "Enter the first dimension of your sculpture in meters: 65\n",
      "1st dimension of sculpture # 3 = 65.0 meters\n",
      "Enter the second dimension of your sculpture in meters: 4\n",
      "2nd dimension of sculpture # 3 = 4.0 meters\n",
      "LAST DIMENSION OF SCULPTURE # 3 = 1.92\n",
      "Enter the first dimension of your sculpture in meters: 12\n",
      "1st dimension of sculpture # 4 = 12.0 meters\n",
      "Enter the second dimension of your sculpture in meters: 2\n",
      "2nd dimension of sculpture # 4 = 2.0 meters\n",
      "LAST DIMENSION OF SCULPTURE # 4 = 20.83\n",
      "Enter the first dimension of your sculpture in meters: 32\n",
      "1st dimension of sculpture # 5 = 32.0 meters\n",
      "Enter the second dimension of your sculpture in meters: 5\n",
      "2nd dimension of sculpture # 5 = 5.0 meters\n",
      "LAST DIMENSION OF SCULPTURE # 5 = 3.12\n"
     ]
    }
   ],
   "source": [
    "# FINAL CODE\n",
    "\n",
    "volume = float(input('Enter the volume of your sculptures in cubic meters '))\n",
    "print('Volume = ', volume, ' cubic meters')\n",
    "\n",
    "x = 1\n",
    "while x <= 5:\n",
    "    length_A = float(input('Enter the first dimension of your sculpture in meters: '))\n",
    "    print('1st dimension of sculpture #',x, '=', length_A, 'meters')\n",
    "    length_B = float(input('Enter the second dimension of your sculpture in meters: '))\n",
    "    print('2nd dimension of sculpture #',x, '=', length_B, 'meters')\n",
    "    last_length = volume / (length_A * length_B)\n",
    "    print ('LAST DIMENSION OF SCULPTURE #',x,'=', round(last_length, 2))\n",
    "    x += 1"
   ]
  },
  {
   "cell_type": "code",
   "execution_count": null,
   "metadata": {},
   "outputs": [],
   "source": []
  }
 ],
 "metadata": {
  "kernelspec": {
   "display_name": "Python 3",
   "language": "python",
   "name": "python3"
  },
  "language_info": {
   "codemirror_mode": {
    "name": "ipython",
    "version": 3
   },
   "file_extension": ".py",
   "mimetype": "text/x-python",
   "name": "python",
   "nbconvert_exporter": "python",
   "pygments_lexer": "ipython3",
   "version": "3.8.3"
  }
 },
 "nbformat": 4,
 "nbformat_minor": 4
}
