{
 "cells": [
  {
   "cell_type": "code",
   "execution_count": 1,
   "metadata": {},
   "outputs": [],
   "source": [
    "# python_assignment1\n",
    "\n",
    "# This program will help determine length A of cuboid when the volume and lengths B and C have been assigned.\n",
    "\n",
    "# Step 1: Input the volume variable, followed by lengths B and C, allowing both intergers and floating numbers.\n",
    "\n",
    "# Step 2: Output length A as a floating number.\n",
    "\n",
    "# Step 3: Ask to start over with a new set of variables."
   ]
  },
  {
   "cell_type": "code",
   "execution_count": 5,
   "metadata": {},
   "outputs": [
    {
     "name": "stdout",
     "output_type": "stream",
     "text": [
      "This is a calculator to find length A of a cuboid given the volume and lengths B and C\n",
      "Please enter the volume: 323\n",
      "Please enter the length_B: 32\n",
      "Please enter the length_C: 4\n",
      "Length A is euqal to 2.5234375\n"
     ]
    }
   ],
   "source": [
    "# Solution 1 calculates length_A and prints the answer in the same line\n",
    "\n",
    "print ('This is a calculator to find length A of a cuboid given the volume and lengths B and C')\n",
    "volume = float(input('Please enter the volume: '))\n",
    "length_B = float(input('Please enter the length_B: '))\n",
    "length_C = float(input('Please enter the length_C: '))\n",
    "print ('Length A is euqal to', volume / (length_B * length_C))"
   ]
  },
  {
   "cell_type": "code",
   "execution_count": 6,
   "metadata": {},
   "outputs": [
    {
     "name": "stdout",
     "output_type": "stream",
     "text": [
      "This is a calculator to find length A of a cuboid given the volume and lengths B and C\n",
      "Please enter the volume: 123\n",
      "Please enter the length_B: 23\n",
      "Please enter the length_C: 3\n",
      "Length A equals 1.78\n"
     ]
    }
   ],
   "source": [
    "# Solution 2 calculates length_A and rounds it to 2 decimal places\n",
    "\n",
    "print ('This is a calculator to find length A of a cuboid given the volume and lengths B and C')\n",
    "volume = float(input('Please enter the volume: '))\n",
    "length_B = float(input('Please enter the length_B: '))\n",
    "length_C = float(input('Please enter the length_C: '))\n",
    "length_A = volume / (length_B * length_C)\n",
    "print ('Length A equals', round (length_A, 2))"
   ]
  },
  {
   "cell_type": "code",
   "execution_count": null,
   "metadata": {},
   "outputs": [],
   "source": []
  }
 ],
 "metadata": {
  "kernelspec": {
   "display_name": "Python 3",
   "language": "python",
   "name": "python3"
  },
  "language_info": {
   "codemirror_mode": {
    "name": "ipython",
    "version": 3
   },
   "file_extension": ".py",
   "mimetype": "text/x-python",
   "name": "python",
   "nbconvert_exporter": "python",
   "pygments_lexer": "ipython3",
   "version": "3.8.3"
  }
 },
 "nbformat": 4,
 "nbformat_minor": 4
}
